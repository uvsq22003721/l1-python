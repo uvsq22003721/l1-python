{
 "cells": [
  {
   "cell_type": "markdown",
   "metadata": {},
   "source": [
    "# TD Git : faire un projet à plusieurs"
   ]
  },
  {
   "cell_type": "markdown",
   "metadata": {},
   "source": [
    "---\n",
    "\n",
    "## 1.Premier pas avec Git\n",
    "\n",
    "1. Vous avez normalement un compte GitHub. Vérifiez que vous pouvez vous y connecter. Choisissez un partenaire avec qui vous allez faire ce TD. Installez git si ce n'est pas déjà fait (normalement ca devrait l'être pour avoir accès au cours. Configurez les couleurs de git ansi que votre pseudo. assurez-vous de pouvoir lancer le bash. Créez un répertoire intitulé gitProjects dans votre ordinateur.\n",
    "\n",
    "2. Vous êtes donc par deux. Une personne A et une personne B. Dans ce TD, certaines actions seront à réaliser par A et/ou par B. Décidez donc maintenant qui est A et qui est B.\n",
    "\n",
    "3. A crée un nouveau projet intitulé td_git sous GitHub, en se connectant à son compte. A invite B (toujours sous GitHub) à participer au projet\n",
    "\n",
    "4. En créant un nouveau projet, GitHub propose d'initialiser le dépot avec un README. Faites le et remplissez le README en expliquant que ce projet est une calculatrice simple réalisée en python avec Tkinter. N'ajoutez pas de gitignore ou de licence.\n",
    "\n",
    "5. B accepte l'invitation à participer au projet de A. À cette étape, A et B ont les droits sur le projet. \n",
    "\n",
    "6. Réalisez (A et B) votre premier clone du projet comme vu en cours, avec le protocole HTTPS.\n",
    "\n",
    "7. B rajoute dans le dépot git, via la ligne de commande et ayant copié le fichier projet.ipynb (celui là) dans le bon dossier. C'est votre premier commit + push. Entre chaque opération, faites git status.\n",
    "\n",
    "8. A réalise son premier pull ! maintenant, le fichier du TD est dans le dépot Git, vous pouvez travailler dessus séparément et localement."
   ]
  },
  {
   "cell_type": "markdown",
   "metadata": {},
   "source": [
    "---\n",
    "## 2.Début du projet: l'interface\n",
    "\n",
    "Nous allons donc réaliser une calculatrice simple en Python, c'est à dire une interface graphique, avec des boutons représentant les chiffres de 0 à 9, ainsi que la possibilité de réaliser les opérations de base d'une calculatrice. À la fin, seul le code qui fonctionne doit être présent dans le Git.\n",
    "\n",
    "7. Travail de A: après avoir dicuté à deux sur la manière de coder cela, partagez vous le travail jusqu'à avoir l'interface complète (l'ensemble des widgets nécessaires à la calculatrice). Programmez uniquement l'interface. N'oubliez pas de commit et de push quelques fois, afin que B puisse commencer à travailler de son côté.\n"
   ]
  },
  {
   "cell_type": "code",
   "execution_count": 109,
   "metadata": {},
   "outputs": [],
   "source": [
    "def appui_touche0():\n",
    "        canvas.create_text(300, 100, text=\"0\", fill=\"red\", font=(\"Times\",\"25\"))\n",
    "\n",
    "def appui_touche1():\n",
    "        canvas.create_text(300, 100, text=\"1\", fill=\"red\", font=(\"Times\",\"25\"))\n",
    "\n",
    "def appui_touche2():\n",
    "        canvas.create_text(300, 100, text=\"2\", fill=\"red\", font=(\"Times\",\"25\"))\n",
    "\n",
    "def appui_touche3():\n",
    "        canvas.create_text(300, 100, text=\"3\", fill=\"red\", font=(\"Times\",\"25\"))\n",
    "\n",
    "def appui_touche4():\n",
    "        canvas.create_text(300, 100, text=\"4\", fill=\"red\", font=(\"Times\",\"25\"))\n",
    "\n",
    "def appui_touche5():\n",
    "        canvas.create_text(300, 100, text=\"5\", fill=\"red\", font=(\"Times\",\"25\"))\n",
    "\n",
    "def appui_touche6():\n",
    "        canvas.create_text(300, 100, text=\"6\", fill=\"red\", font=(\"Times\",\"25\"))\n",
    "\n",
    "def appui_touche7():\n",
    "        canvas.create_text(300, 100, text=\"7\", fill=\"red\", font=(\"Times\",\"25\"))\n",
    "\n",
    "def appui_touche8():\n",
    "        canvas.create_text(300, 100, text=\"8\", fill=\"red\", font=(\"Times\",\"25\"))\n",
    "\n",
    "def appui_touche9():\n",
    "        canvas.create_text(300, 100, text=\"9\", fill=\"red\", font=(\"Times\",\"25\"))\n",
    "\n",
    "def appui_toucheplus():\n",
    "        canvas.create_text(300, 100, text=\"+\", fill=\"red\", font=(\"Times\",\"25\"))\n",
    "\n",
    "def appui_touchemoins():\n",
    "        canvas.create_text(300, 100, text=\"-\", fill=\"red\", font=(\"Times\",\"25\"))\n",
    "\n",
    "def appui_touchefois():\n",
    "        canvas.create_text(300, 100, text=\"*\", fill=\"red\", font=(\"Times\",\"25\"))\n",
    "\n",
    "def appui_touchediv():\n",
    "        canvas.create_text(300, 100, text=\"/\", fill=\"red\", font=(\"Times\",\"25\"))\n",
    "\n",
    "def appui_touchevirgule():\n",
    "        canvas.create_text(300, 100, text=\".\", fill=\"red\", font=(\"Times\",\"25\"))\n",
    "\n",
    "        \n"
   ]
  },
  {
   "cell_type": "code",
   "execution_count": 112,
   "metadata": {},
   "outputs": [],
   "source": [
    "import tkinter as tk \n",
    "\n",
    "HEIGHT =100\n",
    "WIDTH = 300\n",
    "\n",
    "\n",
    "racine = tk.Tk()\n",
    "racine.title(\"Calculatrice\")\n",
    "canvas = tk.Canvas(racine, bg=\"grey\", height=HEIGHT, width=WIDTH, relief=\"raised\", borderwidth=15)\n",
    "canvas.grid(row=1, column=1, columnspan=5)\n",
    "bouton0 = tk.Button(racine, text=\"0\",font = (\"Times\", \"15\"), command=appui_touche0)\n",
    "bouton0.grid(row=9, column=2)\n",
    "bouton1 = tk.Button(racine, text=\"1\",font = (\"Times\", \"15\"), command=appui_touche1)\n",
    "bouton1.grid(row=8, column=1)\n",
    "bouton2 = tk.Button(racine, text=\"2\",font = (\"Times\", \"15\"), command=appui_touche2)\n",
    "bouton2.grid(row=8, column=2)\n",
    "bouton3 = tk.Button(racine, text=\"3\",font = (\"Times\", \"15\"), command=appui_touche3)\n",
    "bouton3.grid(row=8, column=3)\n",
    "bouton4 = tk.Button(racine, text=\"4\",font = (\"Times\", \"15\"), command=appui_touche4)\n",
    "bouton4.grid(row=7, column=1)\n",
    "bouton5 = tk.Button(racine, text=\"5\",font = (\"Times\", \"15\"), command=appui_touche5)\n",
    "bouton5.grid(row=7, column=2)\n",
    "bouton6 = tk.Button(racine, text=\"6\",font = (\"Times\", \"15\"), command=appui_touche6)\n",
    "bouton6.grid(row=7, column=3)\n",
    "bouton7 = tk.Button(racine, text=\"7\",font = (\"Times\", \"15\"), command=appui_touche7)\n",
    "bouton7.grid(row=6, column=1)\n",
    "bouton8 = tk.Button(racine, text=\"8\",font = (\"Times\", \"15\"), command=appui_touche8)\n",
    "bouton8.grid(row=6, column=2)\n",
    "bouton9 = tk.Button(racine, text=\"9\",font = (\"Times\", \"15\"), command=appui_touche9)\n",
    "bouton9.grid(row=6, column=3)\n",
    "boutonplus = tk.Button(racine, text=\"+\",font = (\"Times\", \"15\"), command=appui_toucheplus)\n",
    "boutonplus.grid(row=8, column=4)\n",
    "boutonmoins = tk.Button(racine, text=\"-\",font = (\"Times\", \"15\"), command=appui_touchemoins)\n",
    "boutonmoins.grid(row=8, column=5)\n",
    "boutonfois = tk.Button(racine, text=\"x\",font = (\"Times\", \"15\"), command=appui_touchefois)\n",
    "boutonfois.grid(row=7, column=4)\n",
    "boutondiv = tk.Button(racine, text=\"/\",font = (\"Times\", \"15\"), command=appui_touchediv)\n",
    "boutondiv.grid(row=7, column=5)\n",
    "boutonegal = tk.Button(racine, text=\"=\",font = (\"Times\", \"15\"))\n",
    "boutonegal.grid(row=9, column=5)\n",
    "boutonvirgule = tk.Button(racine, text=\".\",font = (\"Times\", \"15\"), command=appui_touchevirgule)\n",
    "boutonvirgule.grid(row=9, column=4)\n",
    "boutonsupp = tk.Button(racine, text=\"del\",font = (\"Times\", \"15\"))\n",
    "boutonsupp.grid(row=6, column=5)\n",
    "racine.mainloop()"
   ]
  },
  {
   "cell_type": "markdown",
   "metadata": {},
   "source": [
    "8. Travail de B: pendant que A réalise petit à petit l'interface et identifie les widget, commencez à réaliser les fonctions associées aux widget. Que doit réaliser l'action \"appuyer sur le 0\", appuyer sur le \"+\",... N'oubliez pas non plus de tester, et de commit, et de pull pour réaliser un travail consistant avec A"
   ]
  },
  {
   "cell_type": "markdown",
   "metadata": {},
   "source": [
    "9. (optionnel) Générez une clef ssh et ajoutez là à votre compte GitHub, afin de pouvoir pull et push sans avoir à donner votre nom d'utilisateur et mot de passe (il faut aussi chaner d'url de dépot git).\n",
    "\n",
    "Tout ce qui suit doit être réalisé à deux, c'est à vous de vous organiser.\n",
    "\n",
    "10. Continuez jusqu'à avoir une calculatrice qui fait les choses suivantes: \n",
    "    - Il y a 10 boutons de numéros (0 à 9), quand on clique dessus, cela modifie une variable (c'est l'opérande en cours)\n",
    "    - Il y a 4 boutons (+, -, *, /) qui, quand on clique dessus permettent de définir la deuxième opérande (qui le sera en cliquant sur les boutons\n",
    "    - Il y a une zone qui affiche le calcul en cours, et qui donne le résultat quand on clique sur le bouton ="
   ]
  },
  {
   "cell_type": "markdown",
   "metadata": {},
   "source": [
    "11. Quand vous avez fini cela, améliorez votre code pour pouvoir travailler sur des nombres flottants (il faut rajouter un bouton . )"
   ]
  },
  {
   "cell_type": "markdown",
   "metadata": {},
   "source": [
    "12. Modifiez votre code pour pouvoir taper les numéros ou bien avec la souris en cliquant sur les boutons, ou bien en tapant sur le clavier."
   ]
  },
  {
   "cell_type": "raw",
   "metadata": {},
   "source": [
    "12. S'il vous reste du temps, rajoutez des boutons qui permettent d'afficher (tracer les courbes) lorsque l'on clique sur les boutons appropriés les fonctions suivantes:\n",
    "    - La fonction x -> x^2\n",
    "    - La fonction racine carrée\n",
    "    - La fonction logarithme\n",
    "    - La fonction exponentielle"
   ]
  }
 ],
 "metadata": {
  "kernelspec": {
   "display_name": "Python 3",
   "language": "python",
   "name": "python3"
  },
  "language_info": {
   "codemirror_mode": {
    "name": "ipython",
    "version": 3
   },
   "file_extension": ".py",
   "mimetype": "text/x-python",
   "name": "python",
   "nbconvert_exporter": "python",
   "pygments_lexer": "ipython3",
   "version": "3.8.3-final"
  }
 },
 "nbformat": 4,
 "nbformat_minor": 1
}